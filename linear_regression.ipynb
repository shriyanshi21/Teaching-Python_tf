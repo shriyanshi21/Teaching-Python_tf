{
  "nbformat": 4,
  "nbformat_minor": 0,
  "metadata": {
    "colab": {
      "name": "linear_regression.ipynb",
      "provenance": [],
      "collapsed_sections": []
    },
    "kernelspec": {
      "name": "python3",
      "display_name": "Python 3"
    }
  },
  "cells": [
    {
      "cell_type": "code",
      "metadata": {
        "id": "DKZFjcdBZjy8"
      },
      "source": [
        "import tensorflow.compat.v1 as tf\n",
        "tf.disable_v2_behavior() \n",
        "import matplotlib.pyplot as plt"
      ],
      "execution_count": 6,
      "outputs": []
    },
    {
      "cell_type": "code",
      "metadata": {
        "id": "jPT0wG9FtIV1"
      },
      "source": [
        "# Specify the type and shape of input and output data.\n",
        "input_data = tf.placeholder(dtype=tf.float32, shape=None)\n",
        "output_data = tf.placeholder(dtype=tf.float32, shape=None)"
      ],
      "execution_count": 7,
      "outputs": []
    },
    {
      "cell_type": "code",
      "metadata": {
        "id": "uwuvThgJtL-U"
      },
      "source": [
        "# Identify parameters to be solved for\n",
        "slope = tf.Variable(0.5, dtype=tf.float32)\n",
        "intercept = tf.Variable(0.1, dtype=tf.float32)"
      ],
      "execution_count": 8,
      "outputs": []
    },
    {
      "cell_type": "code",
      "metadata": {
        "id": "FYulHiXVtOao"
      },
      "source": [
        "# Create the operation used to calculate the guess\n",
        "model_operation = slope * input_data + intercept"
      ],
      "execution_count": 9,
      "outputs": []
    },
    {
      "cell_type": "code",
      "metadata": {
        "id": "twBtce70tQtD"
      },
      "source": [
        "# Calculate the error of the algorithm's guess\n",
        "error = model_operation - output_data\n",
        "squared_error = tf.square(error)\n",
        "loss = tf.reduce_mean(squared_error)"
      ],
      "execution_count": 10,
      "outputs": []
    },
    {
      "cell_type": "code",
      "metadata": {
        "id": "KkuOmP8FtTSz"
      },
      "source": [
        "# Set the learning rate hyperparameter and bind the train variable.\n",
        "optimizer = tf.train.GradientDescentOptimizer(learning_rate=0.005)\n",
        "train = optimizer.minimize(loss)\n",
        "# Initialize all our variables.\n",
        "init = tf.global_variables_initializer()"
      ],
      "execution_count": 11,
      "outputs": []
    },
    {
      "cell_type": "code",
      "metadata": {
        "id": "qEJLe0hTtVDt"
      },
      "source": [
        "# Create an arbitrary data set to bind to input_data and output_data in the feed_dict.    \n",
        "x_values = [0, 1, 2, 3, 4]\n",
        "y_values = [2*x + 1 for x in x_values]"
      ],
      "execution_count": 12,
      "outputs": []
    },
    {
      "cell_type": "code",
      "metadata": {
        "colab": {
          "base_uri": "https://localhost:8080/",
          "height": 622
        },
        "id": "RM0BfXL-tXLA",
        "outputId": "7cd2588c-2e82-4734-9d80-b9c6de8a7df5"
      },
      "source": [
        "# Run the simulation 2000 times using tf.Session()\n",
        "with tf.Session() as sess:\n",
        "    sess.run(init)\n",
        "    for i in range(2000):\n",
        "        sess.run(train, feed_dict={input_data:x_values, output_data:y_values})\n",
        "        if i % 100 == 0:\n",
        "            print(sess.run([slope, intercept]))\n",
        "            plt.plot(x_values, sess.run(model_operation, feed_dict={input_data:x_values}))\n",
        "     \n",
        "    print(sess.run(loss, feed_dict={input_data:x_values, output_data:y_values}))\n",
        "    plt.plot(x_values, y_values, 'ro', 'Training Data')\n",
        "    plt.plot(x_values, sess.run(model_operation, feed_dict={input_data:x_values}))\n",
        "    plt.show()"
      ],
      "execution_count": 13,
      "outputs": [
        {
          "output_type": "stream",
          "text": [
            "[0.608, 0.139]\n",
            "[2.0848742, 0.75335157]\n",
            "[2.0640316, 0.81745505]\n",
            "[2.04749, 0.86461663]\n",
            "[2.0352206, 0.8995935]\n",
            "[2.0261214, 0.9255339]\n",
            "[2.019373, 0.9447724]\n",
            "[2.0143678, 0.9590406]\n",
            "[2.0106556, 0.96962273]\n",
            "[2.0079026, 0.9774708]\n",
            "[2.005861, 0.98329145]\n",
            "[2.0043466, 0.98760843]\n",
            "[2.0032241, 0.9908095]\n",
            "[2.0023913, 0.99318355]\n",
            "[2.0017736, 0.9949442]\n",
            "[2.0013154, 0.9962501]\n",
            "[2.0009763, 0.99721843]\n",
            "[2.0007248, 0.99793625]\n",
            "[2.0005379, 0.9984685]\n",
            "[2.0004, 0.99886304]\n",
            "2.4072122e-07\n"
          ],
          "name": "stdout"
        },
        {
          "output_type": "display_data",
          "data": {
            "image/png": "[encoded data removed]",
            "text/plain": [
              "<Figure size 432x288 with 1 Axes>"
            ]
          },
          "metadata": {
            "tags": [],
            "needs_background": "light"
          }
        }
      ]
    },
    {
      "cell_type": "code",
      "metadata": {
        "id": "tn3vOOC3tahS"
      },
      "source": [
        ""
      ],
      "execution_count": 13,
      "outputs": []
    }
  ]
}