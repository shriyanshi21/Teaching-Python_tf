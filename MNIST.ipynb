{
  "nbformat": 4,
  "nbformat_minor": 0,
  "metadata": {
    "colab": {
      "name": "MNIST.ipynb",
      "provenance": [],
      "collapsed_sections": []
    },
    "kernelspec": {
      "name": "python3",
      "display_name": "Python 3"
    }
  },
  "cells": [
    {
      "cell_type": "code",
      "metadata": {
        "id": "RwuBjSFTaO1-"
      },
      "source": [
        "import tensorflow as tf "
      ],
      "execution_count": null,
      "outputs": []
    },
    {
      "cell_type": "code",
      "metadata": {
        "id": "cIACFx-xESDu"
      },
      "source": [
        "# Here we're inporting the MNIST dataset under the Keras API. The Keras Python library makes creating deep learning model a quick process\n",
        "(x_train, y_train), (x_test, y_test) = tf.keras.datasets.mnist.load_data()"
      ],
      "execution_count": null,
      "outputs": []
    },
    {
      "cell_type": "code",
      "metadata": {
        "id": "d43pr_6VbHEG"
      },
      "source": [
        "import matplotlib.pyplot as plt "
      ],
      "execution_count": null,
      "outputs": []
    },
    {
      "cell_type": "code",
      "metadata": {
        "id": "HfEphXxmAtPf",
        "colab": {
          "base_uri": "https://localhost:8080/",
          "height": 299
        },
        "outputId": "06624b84-9773-443a-a17b-2aebb38d1b76"
      },
      "source": [
        "# We're going to display an image below with Matplotlib.\n",
        " \n",
        "image_index = 45786 # You may select any number up to 60,000 here\n",
        "print(y_train[image_index]) # This line will tell us what label the image has. This is import as we need to check how accurate our models are!\n",
        "plt.imshow(x_train[image_index], cmap='Greys') # Here we can choose how we want to import the image. Right now, it is set to import in greyscale"
      ],
      "execution_count": null,
      "outputs": [
        {
          "output_type": "stream",
          "text": [
            "3\n"
          ],
          "name": "stdout"
        },
        {
          "output_type": "execute_result",
          "data": {
            "text/plain": [
              "<matplotlib.image.AxesImage at 0x7faaba2356a0>"
            ]
          },
          "metadata": {
            "tags": []
          },
          "execution_count": 14
        },
        {
          "output_type": "display_data",
          "data": {
            "image/png": "[encoded data removed]",
            "text/plain": [
              "<Figure size 432x288 with 1 Axes>"
            ]
          },
          "metadata": {
            "tags": [],
            "needs_background": "light"
          }
        }
      ]
    },
    {
      "cell_type": "code",
      "metadata": {
        "id": "9-o6eWThAyU5",
        "colab": {
          "base_uri": "https://localhost:8080/",
          "height": 34
        },
        "outputId": "16f210b7-9e96-4689-a029-cb693bbc90d0"
      },
      "source": [
        "# We're going to check how many examples are in our dataset. The first number will tell us how many images are in the training dataset. The second and third number tell us the sizes of those images.\n",
        "x_train.shape"
      ],
      "execution_count": null,
      "outputs": [
        {
          "output_type": "execute_result",
          "data": {
            "text/plain": [
              "(60000, 28, 28)"
            ]
          },
          "metadata": {
            "tags": []
          },
          "execution_count": 15
        }
      ]
    },
    {
      "cell_type": "code",
      "metadata": {
        "id": "dYKpTkcKA4M8"
      },
      "source": [
        "# Reshaping the array to 4 dimensions so that it can work with the Keras API\n",
        "x_train = x_train.reshape(x_train.shape[0], 28, 28, 1)\n",
        "x_test = x_test.reshape(x_test.shape[0], 28, 28, 1)\n",
        "input_shape = (28, 28, 1)\n"
      ],
      "execution_count": null,
      "outputs": []
    },
    {
      "cell_type": "code",
      "metadata": {
        "id": "ItbVQez1KDZr"
      },
      "source": [
        "# Making sure that the values are float so that we can get decimal points after division\n",
        "x_train = x_train.astype('float32')\n",
        "x_test = x_test.astype('float32')"
      ],
      "execution_count": null,
      "outputs": []
    },
    {
      "cell_type": "code",
      "metadata": {
        "id": "wPYgNw2Xecsf",
        "colab": {
          "base_uri": "https://localhost:8080/",
          "height": 68
        },
        "outputId": "1ee11910-ee64-4a16-a2af-ec5d8a31a341"
      },
      "source": [
        "# Normalizing the RGB codes by dividing it to the max RGB value.\n",
        "x_train /= 255\n",
        "x_test /= 255\n",
        "print('x_train shape:', x_train.shape)\n",
        "print('Number of images in x_train', x_train.shape[0])\n",
        "print('Number of images in x_test', x_test.shape[0])"
      ],
      "execution_count": null,
      "outputs": [
        {
          "output_type": "stream",
          "text": [
            "x_train shape: (60000, 28, 28, 1)\n",
            "Number of images in x_train 60000\n",
            "Number of images in x_test 10000\n"
          ],
          "name": "stdout"
        }
      ]
    },
    {
      "cell_type": "code",
      "metadata": {
        "id": "e1N909IxA9hQ",
        "colab": {
          "base_uri": "https://localhost:8080/",
          "height": 34
        },
        "outputId": "8a4e1370-e2bf-496b-ac8f-c771f5091f50"
      },
      "source": [
        "# Importing the required Keras modules containing model and layers\n",
        "from keras.models import Sequential\n",
        "from keras.layers import Dense, Conv2D, Dropout, Flatten, MaxPooling2D"
      ],
      "execution_count": null,
      "outputs": [
        {
          "output_type": "stream",
          "text": [
            "Using TensorFlow backend.\n"
          ],
          "name": "stderr"
        }
      ]
    },
    {
      "cell_type": "code",
      "metadata": {
        "id": "wAQYOO9cLD5i"
      },
      "source": [
        "# Creating a Sequential Model and adding the layers\n",
        "model = Sequential()\n",
        "model.add(Conv2D(28, kernel_size=(3,3), input_shape=input_shape))\n",
        "model.add(MaxPooling2D(pool_size=(2, 2)))\n",
        "model.add(Flatten()) # Flattening the 2D arrays for fully connected layers\n",
        "model.add(Dense(128, activation=tf.nn.relu))\n",
        "model.add(Dropout(0.2))\n",
        "model.add(Dense(10,activation=tf.nn.softmax))"
      ],
      "execution_count": null,
      "outputs": []
    },
    {
      "cell_type": "code",
      "metadata": {
        "id": "CP4aQFODhvT8"
      },
      "source": [
        ""
      ],
      "execution_count": null,
      "outputs": []
    },
    {
      "cell_type": "code",
      "metadata": {
        "id": "IvEFOFWeBCka",
        "colab": {
          "base_uri": "https://localhost:8080/",
          "height": 1000
        },
        "outputId": "ea869e0a-1883-4849-9b40-ec8e66659d71"
      },
      "source": [
        "# Below we are using the \"Adam\" optimizer. This updates network weights iteratively based on training data.\n",
        "model.compile(optimizer='adam', \n",
        "              loss='sparse_categorical_crossentropy', \n",
        "              metrics=['accuracy']) # We can print the accuracy and loss with these lines of code\n",
        "model.fit(x=x_train,y=y_train, epochs=50) # An epoch is generally defined as \"one pass over the entire dataset\""
      ],
      "execution_count": null,
      "outputs": [
        {
          "output_type": "stream",
          "text": [
            "Epoch 1/50\n",
            "60000/60000 [==============================] - 34s 569us/step - loss: 0.2076 - accuracy: 0.9384\n",
            "Epoch 2/50\n",
            "60000/60000 [==============================] - 34s 567us/step - loss: 0.0874 - accuracy: 0.9732\n",
            "Epoch 3/50\n",
            "60000/60000 [==============================] - 34s 569us/step - loss: 0.0620 - accuracy: 0.9806\n",
            "Epoch 4/50\n",
            "60000/60000 [==============================] - 34s 568us/step - loss: 0.0453 - accuracy: 0.9855\n",
            "Epoch 5/50\n",
            "60000/60000 [==============================] - 34s 568us/step - loss: 0.0369 - accuracy: 0.9877\n",
            "Epoch 6/50\n",
            "60000/60000 [==============================] - 34s 566us/step - loss: 0.0309 - accuracy: 0.9897\n",
            "Epoch 7/50\n",
            "60000/60000 [==============================] - 34s 561us/step - loss: 0.0265 - accuracy: 0.9907\n",
            "Epoch 8/50\n",
            "60000/60000 [==============================] - 34s 567us/step - loss: 0.0228 - accuracy: 0.9921\n",
            "Epoch 9/50\n",
            "60000/60000 [==============================] - 34s 566us/step - loss: 0.0220 - accuracy: 0.9926\n",
            "Epoch 10/50\n",
            "60000/60000 [==============================] - 34s 562us/step - loss: 0.0192 - accuracy: 0.9931\n",
            "Epoch 11/50\n",
            "60000/60000 [==============================] - 34s 563us/step - loss: 0.0168 - accuracy: 0.9944\n",
            "Epoch 12/50\n",
            "60000/60000 [==============================] - 34s 567us/step - loss: 0.0178 - accuracy: 0.9942\n",
            "Epoch 13/50\n",
            "60000/60000 [==============================] - 34s 564us/step - loss: 0.0140 - accuracy: 0.9953\n",
            "Epoch 14/50\n",
            "60000/60000 [==============================] - 34s 561us/step - loss: 0.0152 - accuracy: 0.9946\n",
            "Epoch 15/50\n",
            "60000/60000 [==============================] - 34s 566us/step - loss: 0.0133 - accuracy: 0.9957\n",
            "Epoch 16/50\n",
            "60000/60000 [==============================] - 34s 566us/step - loss: 0.0131 - accuracy: 0.9957\n",
            "Epoch 17/50\n",
            "60000/60000 [==============================] - 34s 571us/step - loss: 0.0125 - accuracy: 0.9957\n",
            "Epoch 18/50\n",
            "60000/60000 [==============================] - 34s 562us/step - loss: 0.0143 - accuracy: 0.9953\n",
            "Epoch 19/50\n",
            "60000/60000 [==============================] - 34s 561us/step - loss: 0.0125 - accuracy: 0.9957\n",
            "Epoch 20/50\n",
            "60000/60000 [==============================] - 33s 557us/step - loss: 0.0117 - accuracy: 0.9962\n",
            "Epoch 21/50\n",
            "60000/60000 [==============================] - 34s 563us/step - loss: 0.0113 - accuracy: 0.9959\n",
            "Epoch 22/50\n",
            "60000/60000 [==============================] - 34s 561us/step - loss: 0.0124 - accuracy: 0.9962\n",
            "Epoch 23/50\n",
            "60000/60000 [==============================] - 33s 558us/step - loss: 0.0107 - accuracy: 0.9967\n",
            "Epoch 24/50\n",
            "60000/60000 [==============================] - 34s 561us/step - loss: 0.0101 - accuracy: 0.9963\n",
            "Epoch 25/50\n",
            "60000/60000 [==============================] - 33s 554us/step - loss: 0.0102 - accuracy: 0.9967\n",
            "Epoch 26/50\n",
            "60000/60000 [==============================] - 34s 559us/step - loss: 0.0107 - accuracy: 0.9967\n",
            "Epoch 27/50\n",
            "60000/60000 [==============================] - 34s 563us/step - loss: 0.0094 - accuracy: 0.9968\n",
            "Epoch 28/50\n",
            "60000/60000 [==============================] - 33s 553us/step - loss: 0.0108 - accuracy: 0.9964\n",
            "Epoch 29/50\n",
            "60000/60000 [==============================] - 33s 556us/step - loss: 0.0102 - accuracy: 0.9969\n",
            "Epoch 30/50\n",
            "60000/60000 [==============================] - 33s 553us/step - loss: 0.0115 - accuracy: 0.9966\n",
            "Epoch 31/50\n",
            "60000/60000 [==============================] - 33s 556us/step - loss: 0.0082 - accuracy: 0.9974\n",
            "Epoch 32/50\n",
            "60000/60000 [==============================] - 34s 560us/step - loss: 0.0104 - accuracy: 0.9969\n",
            "Epoch 33/50\n",
            "60000/60000 [==============================] - 34s 560us/step - loss: 0.0090 - accuracy: 0.9973\n",
            "Epoch 34/50\n",
            "60000/60000 [==============================] - 34s 564us/step - loss: 0.0103 - accuracy: 0.9969\n",
            "Epoch 35/50\n",
            "60000/60000 [==============================] - 34s 572us/step - loss: 0.0080 - accuracy: 0.9973\n",
            "Epoch 36/50\n",
            "60000/60000 [==============================] - 34s 566us/step - loss: 0.0086 - accuracy: 0.9973\n",
            "Epoch 37/50\n",
            "60000/60000 [==============================] - 33s 557us/step - loss: 0.0083 - accuracy: 0.9971\n",
            "Epoch 38/50\n",
            "60000/60000 [==============================] - 33s 555us/step - loss: 0.0087 - accuracy: 0.9973\n",
            "Epoch 39/50\n",
            "60000/60000 [==============================] - 33s 554us/step - loss: 0.0091 - accuracy: 0.9974\n",
            "Epoch 40/50\n",
            "60000/60000 [==============================] - 33s 556us/step - loss: 0.0089 - accuracy: 0.9974\n",
            "Epoch 41/50\n",
            "60000/60000 [==============================] - 33s 557us/step - loss: 0.0093 - accuracy: 0.9970\n",
            "Epoch 42/50\n",
            "60000/60000 [==============================] - 33s 550us/step - loss: 0.0074 - accuracy: 0.9979\n",
            "Epoch 43/50\n",
            "60000/60000 [==============================] - 33s 548us/step - loss: 0.0094 - accuracy: 0.9973\n",
            "Epoch 44/50\n",
            "49760/60000 [=======================>......] - ETA: 5s - loss: 0.0066 - accuracy: 0.9977"
          ],
          "name": "stdout"
        }
      ]
    },
    {
      "cell_type": "code",
      "metadata": {
        "id": "MUTAXqHlBbVB"
      },
      "source": [
        "# If we want to see our prediction results and confidence score, we can go ahead and run this line of code\n",
        "model.evaluate(x_test, y_test)"
      ],
      "execution_count": null,
      "outputs": []
    },
    {
      "cell_type": "code",
      "metadata": {
        "id": "WjpdrBOIkf9Y"
      },
      "source": [
        ""
      ],
      "execution_count": null,
      "outputs": []
    },
    {
      "cell_type": "code",
      "metadata": {
        "id": "pmwiu2EFCl0p",
        "colab": {
          "base_uri": "https://localhost:8080/",
          "height": 286
        },
        "outputId": "0afd9eb7-d781-416f-d0d5-35d920722165"
      },
      "source": [
        "from random import randint\n",
        "\n",
        "image_index = (randint(0, 10000)) # Choose any number less than 60,000 here so we can test our model!\n",
        "plt.imshow(x_test[image_index].reshape(28, 28),cmap='Greys') # Just like a previous line we write above. Displays the image on a graph in greyscale\n",
        "pred = model.predict(x_test[image_index].reshape(1, 28, 28, 1)) # Here we'll display the prediction with our image\n",
        "print(pred.argmax())"
      ],
      "execution_count": null,
      "outputs": [
        {
          "output_type": "stream",
          "text": [
            "8\n"
          ],
          "name": "stdout"
        },
        {
          "output_type": "display_data",
          "data": {
            "image/png": "[encoded data removed]",
            "text/plain": [
              "<Figure size 432x288 with 1 Axes>"
            ]
          },
          "metadata": {
            "tags": []
          }
        }
      ]
    }
  ]
}