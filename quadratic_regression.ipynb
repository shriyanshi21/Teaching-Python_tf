{
  "nbformat": 4,
  "nbformat_minor": 0,
  "metadata": {
    "colab": {
      "name": "quadratic_regression.ipynb",
      "provenance": [],
      "collapsed_sections": []
    },
    "kernelspec": {
      "name": "python3",
      "display_name": "Python 3"
    },
    "language_info": {
      "name": "python"
    }
  },
  "cells": [
    {
      "cell_type": "code",
      "metadata": {
        "colab": {
          "base_uri": "https://localhost:8080/",
          "height": 1000
        },
        "id": "2FPJrMAVuBQh",
        "outputId": "c3df9ab5-7870-4fdc-df1b-b475a5807cf2"
      },
      "source": [
        "### QUADRATIC REGRESSION IN TENSORFLOW ###\n",
        "\n",
        "# import tensorflow and pther necessary packages\n",
        "import tensorflow.compat.v1 as tf\n",
        "tf.disable_v2_behavior() \n",
        "import matplotlib.pyplot as plt\n",
        "plt.interactive(False)\n",
        "\n",
        "# Clearing whatever is saved so that we have a blank slate.\n",
        "tf.reset_default_graph()\n",
        "\n",
        "# Specify the type and shape of output data\n",
        "input_data = tf.placeholder(dtype=tf.float32, shape=None)\n",
        "output_data = tf.placeholder(dtype=tf.float32, shape=None)\n",
        "\n",
        "# Identify variables to solve for\n",
        "# m = tf.Variable(1, dtype=tf.float32)\n",
        "# b = tf.Variable(1, dtype=tf.float32)\n",
        "## ** For quadratic regression **\n",
        "a = tf.Variable(1, dtype=tf.float32)\n",
        "b = tf.Variable(1, dtype=tf.float32)\n",
        "c = tf.Variable(1, dtype=tf.float32)\n",
        "\n",
        "# Create the operation used to calculate the guess\n",
        "# model_operation = m * input_data + b\n",
        "# ** for quadratic regression **\n",
        "model_operation = (a * (input_data ** 2)) + (b * input_data) + c # y = ax^2 + bx + c\n",
        "\n",
        "d_i = model_operation - output_data\n",
        "squared_error = tf.square(d_i)\n",
        "loss = tf.reduce_mean(squared_error)\n",
        "\n",
        "\n",
        "# Set the learning rate and tell the computer to minimize loss.\n",
        "# optimizer = tf.train.GradientDescentOptimizer(learning_rate=0.001)\n",
        "# ** For quadratic regression\n",
        "optimizer = tf.train.GradientDescentOptimizer(learning_rate=0.00001)\n",
        "\n",
        "train = optimizer.minimize(loss)\n",
        "\n",
        "# x_values = [0, 1, 2, 3, 4]\n",
        "# y_values = [2 * x + 1 for x in x_values]   # ==[1, 3, 5, 7, 9] --> y = 2x + 1\n",
        "## ** For quadratic regression **\n",
        "x_values = [x for x in range (-10, 10)]\n",
        "y_values = [(x ** 2) + (2 * x) + 1 for x in x_values] # y = x^2 + 2x + 1\n",
        "\n",
        "init = tf.global_variables_initializer()\n",
        "\n",
        "with tf.Session() as sess:\n",
        "    sess.run(init)\n",
        "    for i in range(5000):\n",
        "        sess.run(train, feed_dict={input_data:x_values, output_data:y_values})\n",
        "        if i % 100 == 0:\n",
        "            # print(sess.run([m, b]))\n",
        "            ## ** For quadratic regression **\n",
        "            print(sess.run([a, b, c]))\n",
        "            plt.plot(x_values, sess.run(model_operation, feed_dict={input_data:x_values}))\n",
        "            \n",
        "    print(sess.run(loss, feed_dict={input_data:x_values, output_data:y_values}))\n",
        "    \n",
        "    plt.plot(x_values, y_values, 'ro', 'Training Data')\n",
        "    plt.plot(x_values, sess.run(model_operation, feed_dict={input_data:x_values}))\n",
        "    plt.show()"
      ],
      "execution_count": 2,
      "outputs": [
        {
          "output_type": "stream",
          "text": [
            "WARNING:tensorflow:From /usr/local/lib/python3.7/dist-packages/tensorflow/python/compat/v2_compat.py:96: disable_resource_variables (from tensorflow.python.ops.variable_scope) is deprecated and will be removed in a future version.\n",
            "Instructions for updating:\n",
            "non-resource variables are not supported in the long term\n",
            "[0.999, 1.00067, 0.99999]\n",
            "[0.97697806, 1.0636646, 1.0002536]\n",
            "[0.97806025, 1.1221797, 1.0008577]\n",
            "[0.9794153, 1.1770307, 1.0014296]\n",
            "[0.98069113, 1.2284524, 1.0019654]\n",
            "[0.9818873, 1.2766608, 1.0024668]\n",
            "[0.9830088, 1.3218573, 1.0029364]\n",
            "[0.98406017, 1.3642292, 1.0033764]\n",
            "[0.98504585, 1.4039532, 1.0037886]\n",
            "[0.9859699, 1.4411944, 1.0041739]\n",
            "[0.9868363, 1.4761088, 1.0045348]\n",
            "[0.9876485, 1.5088409, 1.0048729]\n",
            "[0.98841, 1.5395278, 1.005189]\n",
            "[0.9891238, 1.5682969, 1.0054843]\n",
            "[0.9897931, 1.5952688, 1.005762]\n",
            "[0.99042064, 1.6205548, 1.0060201]\n",
            "[0.991009, 1.6442604, 1.0062628]\n",
            "[0.99156046, 1.6664846, 1.0064894]\n",
            "[0.9920774, 1.6873201, 1.0067006]\n",
            "[0.99256223, 1.7068534, 1.0068985]\n",
            "[0.99301666, 1.7251655, 1.0070837]\n",
            "[0.9934427, 1.742334, 1.0072566]\n",
            "[0.9938422, 1.7584298, 1.0074183]\n",
            "[0.9942167, 1.7735196, 1.0075696]\n",
            "[0.9945679, 1.7876663, 1.0077115]\n",
            "[0.9948971, 1.800929, 1.0078427]\n",
            "[0.99520564, 1.813363, 1.0079646]\n",
            "[0.9954949, 1.8250198, 1.00808]\n",
            "[0.9957662, 1.8359482, 1.0081873]\n",
            "[0.9960206, 1.8461937, 1.0082859]\n",
            "[0.99625903, 1.8557988, 1.0083812]\n",
            "[0.9964826, 1.8648037, 1.0084653]\n",
            "[0.99669206, 1.8732461, 1.0085487]\n",
            "[0.9968886, 1.8811606, 1.008621]\n",
            "[0.99707276, 1.888581, 1.0086925]\n",
            "[0.9972455, 1.8955377, 1.0087565]\n",
            "[0.99740756, 1.9020596, 1.0088161]\n",
            "[0.9975594, 1.9081737, 1.0088757]\n",
            "[0.9977016, 1.9139057, 1.0089244]\n",
            "[0.9978353, 1.9192798, 1.008972]\n",
            "[0.9979603, 1.9243181, 1.0090197]\n",
            "[0.99807745, 1.9290411, 1.00906]\n",
            "[0.9981875, 1.9334693, 1.0090958]\n",
            "[0.9982908, 1.9376208, 1.0091316]\n",
            "[0.9983875, 1.9415127, 1.0091673]\n",
            "[0.9984781, 1.945162, 1.009198]\n",
            "[0.99856305, 1.9485826, 1.0092218]\n",
            "[0.9986426, 1.9517899, 1.0092456]\n",
            "[0.9987174, 1.9547967, 1.0092695]\n",
            "[0.9987878, 1.9576154, 1.0092933]\n",
            "0.050834518\n"
          ],
          "name": "stdout"
        },
        {
          "output_type": "display_data",
          "data": {
            "image/png": "[encoded data removed]",
            "text/plain": [
              "<Figure size 432x288 with 1 Axes>"
            ]
          },
          "metadata": {
            "tags": [],
            "needs_background": "light"
          }
        }
      ]
    }
  ]
}